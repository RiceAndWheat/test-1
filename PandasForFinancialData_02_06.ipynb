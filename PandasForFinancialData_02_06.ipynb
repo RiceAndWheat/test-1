{
  "nbformat": 4,
  "nbformat_minor": 0,
  "metadata": {
    "colab": {
      "provenance": [],
      "authorship_tag": "ABX9TyO4v+Qz2X6Dt21zrxSPfZlR",
      "include_colab_link": true
    },
    "kernelspec": {
      "name": "python3",
      "display_name": "Python 3"
    },
    "language_info": {
      "name": "python"
    }
  },
  "cells": [
    {
      "cell_type": "markdown",
      "metadata": {
        "id": "view-in-github",
        "colab_type": "text"
      },
      "source": [
        "<a href=\"https://colab.research.google.com/github/RiceAndWheat/test-1/blob/master/PandasForFinancialData_02_06.ipynb\" target=\"_parent\"><img src=\"https://colab.research.google.com/assets/colab-badge.svg\" alt=\"Open In Colab\"/></a>"
      ]
    },
    {
      "cell_type": "code",
      "source": [
        "# 조건 연산"
      ],
      "metadata": {
        "id": "VyseOGAnre7g"
      },
      "execution_count": null,
      "outputs": []
    },
    {
      "cell_type": "code",
      "source": [
        "import numpy as np"
      ],
      "metadata": {
        "id": "fDfhWnmKla4e"
      },
      "execution_count": null,
      "outputs": []
    },
    {
      "cell_type": "code",
      "source": [
        "arr = np.array([10, 20, 30])"
      ],
      "metadata": {
        "id": "zYhgd9AAlhEo"
      },
      "execution_count": null,
      "outputs": []
    },
    {
      "cell_type": "code",
      "source": [
        "arr = np.array([10, 20, 30])"
      ],
      "metadata": {
        "id": "a5dQDAk5pPzz"
      },
      "execution_count": null,
      "outputs": []
    },
    {
      "cell_type": "code",
      "source": [
        "cond = arr > 10\n",
        "arr[cond] = arr[cond] + 10\n",
        "arr[~cond] = arr[~cond] - 10\n",
        "arr"
      ],
      "metadata": {
        "colab": {
          "base_uri": "https://localhost:8080/"
        },
        "id": "R2YmFFNJlur-",
        "outputId": "30fc4594-f094-46af-c106-24aa0d676c88"
      },
      "execution_count": null,
      "outputs": [
        {
          "output_type": "execute_result",
          "data": {
            "text/plain": [
              "array([ 0, 30, 40])"
            ]
          },
          "metadata": {},
          "execution_count": 5
        }
      ]
    },
    {
      "cell_type": "code",
      "source": [
        "arr = np.array([10, 20, 30])"
      ],
      "metadata": {
        "id": "7BClb96xpkI9"
      },
      "execution_count": null,
      "outputs": []
    },
    {
      "cell_type": "code",
      "source": [
        "arr = np.where(arr>10, arr+10, arr-10)\n",
        "arr"
      ],
      "metadata": {
        "colab": {
          "base_uri": "https://localhost:8080/"
        },
        "id": "EpTKs4hon8t-",
        "outputId": "c3adec75-b728-470d-cda2-9ff30b38855a"
      },
      "execution_count": null,
      "outputs": [
        {
          "output_type": "execute_result",
          "data": {
            "text/plain": [
              "array([ 0, 30, 40])"
            ]
          },
          "metadata": {},
          "execution_count": 8
        }
      ]
    },
    {
      "cell_type": "code",
      "source": [
        "# lg전자의 종가가 85000 이하로 떨어진 날은 며칠일까?"
      ],
      "metadata": {
        "id": "PeTQaTBDqBVX"
      },
      "execution_count": null,
      "outputs": []
    },
    {
      "cell_type": "code",
      "source": [
        "lge = np.array([93000, 82400, 99100, 81000, 72300])"
      ],
      "metadata": {
        "id": "2H0REqIgqKcc"
      },
      "execution_count": null,
      "outputs": []
    },
    {
      "cell_type": "code",
      "source": [
        "result = len(lge[lge < 85000])\n",
        "print(result)"
      ],
      "metadata": {
        "colab": {
          "base_uri": "https://localhost:8080/"
        },
        "id": "iYgiCL8gqiEV",
        "outputId": "238c13ab-3c11-4616-c733-bf6623ebb3aa"
      },
      "execution_count": null,
      "outputs": [
        {
          "output_type": "stream",
          "name": "stdout",
          "text": [
            "3\n"
          ]
        }
      ]
    }
  ]
}